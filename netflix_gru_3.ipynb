{
 "cells": [
  {
   "cell_type": "code",
   "execution_count": 1,
   "metadata": {},
   "outputs": [],
   "source": [
    "import os\n",
    "import pandas as pd\n",
    "import numpy as np\n",
    "import math\n",
    "import datetime as dt\n",
    "\n",
    "from sklearn.metrics import mean_squared_error, mean_absolute_error, explained_variance_score, r2_score \n",
    "from sklearn.metrics import mean_poisson_deviance, mean_gamma_deviance, accuracy_score\n",
    "from sklearn.preprocessing import MinMaxScaler\n",
    "\n",
    "import tensorflow as tf\n",
    "from tensorflow.keras.models import Sequential\n",
    "from tensorflow.keras.layers import Dense, Dropout\n",
    "from tensorflow.keras.layers import LSTM, GRU\n",
    "\n",
    "from itertools import cycle\n",
    "import plotly.graph_objects as go\n",
    "import plotly.express as px\n",
    "from plotly.subplots import make_subplots\n",
    "# https://github.com/rohan-paul/MachineLearning-DeepLearning-Code-for-my-YouTube-Channel/blob/master/Finance_Stock_Crypto_Trading/Credit_Suisse_Price_Prediction_with_GRU/OUTPUT.ipynb"
   ]
  },
  {
   "cell_type": "code",
   "execution_count": 2,
   "metadata": {},
   "outputs": [
    {
     "data": {
      "text/html": [
       "<div>\n",
       "<style scoped>\n",
       "    .dataframe tbody tr th:only-of-type {\n",
       "        vertical-align: middle;\n",
       "    }\n",
       "\n",
       "    .dataframe tbody tr th {\n",
       "        vertical-align: top;\n",
       "    }\n",
       "\n",
       "    .dataframe thead th {\n",
       "        text-align: right;\n",
       "    }\n",
       "</style>\n",
       "<table border=\"1\" class=\"dataframe\">\n",
       "  <thead>\n",
       "    <tr style=\"text-align: right;\">\n",
       "      <th></th>\n",
       "      <th>date</th>\n",
       "      <th>open</th>\n",
       "      <th>high</th>\n",
       "      <th>low</th>\n",
       "      <th>close</th>\n",
       "      <th>adj_close</th>\n",
       "      <th>volume</th>\n",
       "    </tr>\n",
       "  </thead>\n",
       "  <tbody>\n",
       "    <tr>\n",
       "      <th>0</th>\n",
       "      <td>2018-02-05</td>\n",
       "      <td>262.000000</td>\n",
       "      <td>267.899994</td>\n",
       "      <td>250.029999</td>\n",
       "      <td>254.259995</td>\n",
       "      <td>254.259995</td>\n",
       "      <td>11896100</td>\n",
       "    </tr>\n",
       "    <tr>\n",
       "      <th>1</th>\n",
       "      <td>2018-02-06</td>\n",
       "      <td>247.699997</td>\n",
       "      <td>266.700012</td>\n",
       "      <td>245.000000</td>\n",
       "      <td>265.720001</td>\n",
       "      <td>265.720001</td>\n",
       "      <td>12595800</td>\n",
       "    </tr>\n",
       "    <tr>\n",
       "      <th>2</th>\n",
       "      <td>2018-02-07</td>\n",
       "      <td>266.579987</td>\n",
       "      <td>272.450012</td>\n",
       "      <td>264.329987</td>\n",
       "      <td>264.559998</td>\n",
       "      <td>264.559998</td>\n",
       "      <td>8981500</td>\n",
       "    </tr>\n",
       "    <tr>\n",
       "      <th>3</th>\n",
       "      <td>2018-02-08</td>\n",
       "      <td>267.079987</td>\n",
       "      <td>267.619995</td>\n",
       "      <td>250.000000</td>\n",
       "      <td>250.100006</td>\n",
       "      <td>250.100006</td>\n",
       "      <td>9306700</td>\n",
       "    </tr>\n",
       "    <tr>\n",
       "      <th>4</th>\n",
       "      <td>2018-02-09</td>\n",
       "      <td>253.850006</td>\n",
       "      <td>255.800003</td>\n",
       "      <td>236.110001</td>\n",
       "      <td>249.470001</td>\n",
       "      <td>249.470001</td>\n",
       "      <td>16906900</td>\n",
       "    </tr>\n",
       "  </tbody>\n",
       "</table>\n",
       "</div>"
      ],
      "text/plain": [
       "         date        open        high         low       close   adj_close  \\\n",
       "0  2018-02-05  262.000000  267.899994  250.029999  254.259995  254.259995   \n",
       "1  2018-02-06  247.699997  266.700012  245.000000  265.720001  265.720001   \n",
       "2  2018-02-07  266.579987  272.450012  264.329987  264.559998  264.559998   \n",
       "3  2018-02-08  267.079987  267.619995  250.000000  250.100006  250.100006   \n",
       "4  2018-02-09  253.850006  255.800003  236.110001  249.470001  249.470001   \n",
       "\n",
       "     volume  \n",
       "0  11896100  \n",
       "1  12595800  \n",
       "2   8981500  \n",
       "3   9306700  \n",
       "4  16906900  "
      ]
     },
     "execution_count": 2,
     "metadata": {},
     "output_type": "execute_result"
    }
   ],
   "source": [
    "df = pd.read_csv('NFLX.csv')\n",
    "df\n",
    "df = df.rename(columns={'Date': 'date','Open':'open','High':'high','Low':'low','Close':'close',\n",
    "                                'Adj Close':'adj_close','Volume':'volume'})\n",
    "df.head()"
   ]
  },
  {
   "cell_type": "code",
   "execution_count": 3,
   "metadata": {},
   "outputs": [
    {
     "name": "stdout",
     "output_type": "stream",
     "text": [
      "Total number of days:  1009\n",
      "Total number of fields:  7\n"
     ]
    }
   ],
   "source": [
    "print(\"Total number of days: \",df.shape[0])\n",
    "print(\"Total number of fields: \",df.shape[1])\n"
   ]
  },
  {
   "cell_type": "code",
   "execution_count": 4,
   "metadata": {},
   "outputs": [
    {
     "name": "stdout",
     "output_type": "stream",
     "text": [
      "Null values: 0\n",
      "NA values: False\n"
     ]
    }
   ],
   "source": [
    "print(\"Null values:\", df.isnull().values.sum())\n",
    "print(\"NA values:\", df.isna().values.any())"
   ]
  },
  {
   "cell_type": "code",
   "execution_count": 5,
   "metadata": {},
   "outputs": [
    {
     "name": "stdout",
     "output_type": "stream",
     "text": [
      "<class 'pandas.core.frame.DataFrame'>\n",
      "RangeIndex: 1009 entries, 0 to 1008\n",
      "Data columns (total 7 columns):\n",
      " #   Column     Non-Null Count  Dtype  \n",
      "---  ------     --------------  -----  \n",
      " 0   date       1009 non-null   object \n",
      " 1   open       1009 non-null   float64\n",
      " 2   high       1009 non-null   float64\n",
      " 3   low        1009 non-null   float64\n",
      " 4   close      1009 non-null   float64\n",
      " 5   adj_close  1009 non-null   float64\n",
      " 6   volume     1009 non-null   int64  \n",
      "dtypes: float64(5), int64(1), object(1)\n",
      "memory usage: 55.3+ KB\n"
     ]
    }
   ],
   "source": [
    "df.info()"
   ]
  },
  {
   "cell_type": "code",
   "execution_count": 6,
   "metadata": {},
   "outputs": [],
   "source": [
    "df['date'] = pd.to_datetime(df['date'], utc=True)\n"
   ]
  },
  {
   "cell_type": "code",
   "execution_count": 7,
   "metadata": {},
   "outputs": [
    {
     "name": "stdout",
     "output_type": "stream",
     "text": [
      "<class 'pandas.core.frame.DataFrame'>\n",
      "RangeIndex: 1009 entries, 0 to 1008\n",
      "Data columns (total 7 columns):\n",
      " #   Column     Non-Null Count  Dtype              \n",
      "---  ------     --------------  -----              \n",
      " 0   date       1009 non-null   datetime64[ns, UTC]\n",
      " 1   open       1009 non-null   float64            \n",
      " 2   high       1009 non-null   float64            \n",
      " 3   low        1009 non-null   float64            \n",
      " 4   close      1009 non-null   float64            \n",
      " 5   adj_close  1009 non-null   float64            \n",
      " 6   volume     1009 non-null   int64              \n",
      "dtypes: datetime64[ns, UTC](1), float64(5), int64(1)\n",
      "memory usage: 55.3 KB\n"
     ]
    }
   ],
   "source": [
    "df.info()"
   ]
  },
  {
   "cell_type": "code",
   "execution_count": 8,
   "metadata": {},
   "outputs": [
    {
     "name": "stdout",
     "output_type": "stream",
     "text": [
      "Starting date:  2018-02-05 00:00:00+00:00\n",
      "Ending date:  2022-02-04 00:00:00+00:00\n",
      "Duration:  1460 days 00:00:00\n"
     ]
    }
   ],
   "source": [
    "print(\"Starting date: \",df.iloc[0][0])\n",
    "print(\"Ending date: \", df.iloc[-1][0])\n",
    "print(\"Duration: \", df.iloc[-1][0]-df.iloc[0][0])"
   ]
  },
  {
   "cell_type": "code",
   "execution_count": 9,
   "metadata": {},
   "outputs": [
    {
     "name": "stdout",
     "output_type": "stream",
     "text": [
      "Shape of close dataframe: (1009, 2)\n"
     ]
    },
    {
     "data": {
      "text/html": [
       "<div>\n",
       "<style scoped>\n",
       "    .dataframe tbody tr th:only-of-type {\n",
       "        vertical-align: middle;\n",
       "    }\n",
       "\n",
       "    .dataframe tbody tr th {\n",
       "        vertical-align: top;\n",
       "    }\n",
       "\n",
       "    .dataframe thead th {\n",
       "        text-align: right;\n",
       "    }\n",
       "</style>\n",
       "<table border=\"1\" class=\"dataframe\">\n",
       "  <thead>\n",
       "    <tr style=\"text-align: right;\">\n",
       "      <th></th>\n",
       "      <th>date</th>\n",
       "      <th>close</th>\n",
       "    </tr>\n",
       "  </thead>\n",
       "  <tbody>\n",
       "    <tr>\n",
       "      <th>0</th>\n",
       "      <td>2018-02-05 00:00:00+00:00</td>\n",
       "      <td>254.259995</td>\n",
       "    </tr>\n",
       "    <tr>\n",
       "      <th>1</th>\n",
       "      <td>2018-02-06 00:00:00+00:00</td>\n",
       "      <td>265.720001</td>\n",
       "    </tr>\n",
       "    <tr>\n",
       "      <th>2</th>\n",
       "      <td>2018-02-07 00:00:00+00:00</td>\n",
       "      <td>264.559998</td>\n",
       "    </tr>\n",
       "    <tr>\n",
       "      <th>3</th>\n",
       "      <td>2018-02-08 00:00:00+00:00</td>\n",
       "      <td>250.100006</td>\n",
       "    </tr>\n",
       "    <tr>\n",
       "      <th>4</th>\n",
       "      <td>2018-02-09 00:00:00+00:00</td>\n",
       "      <td>249.470001</td>\n",
       "    </tr>\n",
       "    <tr>\n",
       "      <th>...</th>\n",
       "      <td>...</td>\n",
       "      <td>...</td>\n",
       "    </tr>\n",
       "    <tr>\n",
       "      <th>1004</th>\n",
       "      <td>2022-01-31 00:00:00+00:00</td>\n",
       "      <td>427.140015</td>\n",
       "    </tr>\n",
       "    <tr>\n",
       "      <th>1005</th>\n",
       "      <td>2022-02-01 00:00:00+00:00</td>\n",
       "      <td>457.130005</td>\n",
       "    </tr>\n",
       "    <tr>\n",
       "      <th>1006</th>\n",
       "      <td>2022-02-02 00:00:00+00:00</td>\n",
       "      <td>429.480011</td>\n",
       "    </tr>\n",
       "    <tr>\n",
       "      <th>1007</th>\n",
       "      <td>2022-02-03 00:00:00+00:00</td>\n",
       "      <td>405.600006</td>\n",
       "    </tr>\n",
       "    <tr>\n",
       "      <th>1008</th>\n",
       "      <td>2022-02-04 00:00:00+00:00</td>\n",
       "      <td>410.170013</td>\n",
       "    </tr>\n",
       "  </tbody>\n",
       "</table>\n",
       "<p>1009 rows × 2 columns</p>\n",
       "</div>"
      ],
      "text/plain": [
       "                          date       close\n",
       "0    2018-02-05 00:00:00+00:00  254.259995\n",
       "1    2018-02-06 00:00:00+00:00  265.720001\n",
       "2    2018-02-07 00:00:00+00:00  264.559998\n",
       "3    2018-02-08 00:00:00+00:00  250.100006\n",
       "4    2018-02-09 00:00:00+00:00  249.470001\n",
       "...                        ...         ...\n",
       "1004 2022-01-31 00:00:00+00:00  427.140015\n",
       "1005 2022-02-01 00:00:00+00:00  457.130005\n",
       "1006 2022-02-02 00:00:00+00:00  429.480011\n",
       "1007 2022-02-03 00:00:00+00:00  405.600006\n",
       "1008 2022-02-04 00:00:00+00:00  410.170013\n",
       "\n",
       "[1009 rows x 2 columns]"
      ]
     },
     "execution_count": 9,
     "metadata": {},
     "output_type": "execute_result"
    }
   ],
   "source": [
    "df_close = df[['date','close']]\n",
    "\n",
    "df_close_original = df_close.copy()\n",
    "\n",
    "print(\"Shape of close dataframe:\", df_close.shape)\n",
    "df_close"
   ]
  },
  {
   "cell_type": "code",
   "execution_count": 10,
   "metadata": {},
   "outputs": [
    {
     "name": "stdout",
     "output_type": "stream",
     "text": [
      "train_data:  (807, 2)\n",
      "test_data:  (202, 2)\n"
     ]
    }
   ],
   "source": [
    "training_size=int(len(df_close)*0.80)\n",
    "\n",
    "test_size=len(df_close)-training_size\n",
    "\n",
    "train_data,test_data = df_close[0:training_size],df_close[training_size:len(df_close)]\n",
    "\n",
    "print(\"train_data: \", train_data.shape)\n",
    "\n",
    "print(\"test_data: \", test_data.shape)"
   ]
  },
  {
   "cell_type": "code",
   "execution_count": 11,
   "metadata": {},
   "outputs": [],
   "source": [
    "del train_data['date']\n",
    "del test_data['date']"
   ]
  },
  {
   "cell_type": "code",
   "execution_count": 12,
   "metadata": {},
   "outputs": [
    {
     "name": "stdout",
     "output_type": "stream",
     "text": [
      "(1009, 2)\n"
     ]
    }
   ],
   "source": [
    "scaler=MinMaxScaler(feature_range=(0,1))\n",
    "\n",
    "train_data=scaler.fit_transform(np.array(train_data).reshape(-1,1))\n",
    "\n",
    "test_data = scaler.transform(np.array(test_data).reshape(-1,1))\n",
    "\n",
    "print(df_close.shape)\n"
   ]
  },
  {
   "cell_type": "code",
   "execution_count": 13,
   "metadata": {},
   "outputs": [],
   "source": [
    "def create_sliding_window(dataset, time_step=1):\n",
    "    dataX, dataY = [], []\n",
    "    for i in range(len(dataset)-time_step-1):\n",
    "        a = dataset[i:(i+time_step), 0]   ###i=0, 0,1,2,3-----99   100 \n",
    "        dataX.append(a)\n",
    "        dataY.append(dataset[i + time_step, 0])\n",
    "    return np.array(dataX), np.array(dataY)"
   ]
  },
  {
   "cell_type": "code",
   "execution_count": 14,
   "metadata": {},
   "outputs": [
    {
     "name": "stdout",
     "output_type": "stream",
     "text": [
      "X_train:  (799, 7)\n",
      "y_train:  (799,)\n",
      "X_test:  (194, 7)\n",
      "y_test (194,)\n"
     ]
    }
   ],
   "source": [
    "time_step = 7\n",
    "X_train, y_train = create_sliding_window(train_data, time_step)\n",
    "X_test, y_test = create_sliding_window(test_data, time_step)\n",
    "\n",
    "print(\"X_train: \", X_train.shape)\n",
    "print(\"y_train: \", y_train.shape)\n",
    "print(\"X_test: \", X_test.shape)\n",
    "print(\"y_test\", y_test.shape)\n"
   ]
  },
  {
   "cell_type": "code",
   "execution_count": 15,
   "metadata": {},
   "outputs": [],
   "source": [
    "tf.keras.backend.clear_session()\n",
    "model=Sequential()\n",
    "model.add(GRU(32,return_sequences=True,input_shape=(time_step,1)))\n",
    "model.add(GRU(32,return_sequences=True))\n",
    "model.add(GRU(32))\n",
    "model.add(Dropout(0.20))\n",
    "model.add(Dense(1))\n",
    "model.compile(loss='mean_squared_error',optimizer='adam')"
   ]
  },
  {
   "cell_type": "code",
   "execution_count": 16,
   "metadata": {},
   "outputs": [
    {
     "name": "stdout",
     "output_type": "stream",
     "text": [
      "Model: \"sequential\"\n",
      "_________________________________________________________________\n",
      " Layer (type)                Output Shape              Param #   \n",
      "=================================================================\n",
      " gru (GRU)                   (None, 7, 32)             3360      \n",
      "                                                                 \n",
      " gru_1 (GRU)                 (None, 7, 32)             6336      \n",
      "                                                                 \n",
      " gru_2 (GRU)                 (None, 32)                6336      \n",
      "                                                                 \n",
      " dropout (Dropout)           (None, 32)                0         \n",
      "                                                                 \n",
      " dense (Dense)               (None, 1)                 33        \n",
      "                                                                 \n",
      "=================================================================\n",
      "Total params: 16,065\n",
      "Trainable params: 16,065\n",
      "Non-trainable params: 0\n",
      "_________________________________________________________________\n"
     ]
    }
   ],
   "source": [
    "model.summary()"
   ]
  },
  {
   "cell_type": "code",
   "execution_count": 17,
   "metadata": {},
   "outputs": [
    {
     "name": "stdout",
     "output_type": "stream",
     "text": [
      "Epoch 1/50\n",
      "50/50 [==============================] - 3s 5ms/step - loss: 0.0430\n",
      "Epoch 2/50\n",
      "50/50 [==============================] - 0s 5ms/step - loss: 0.0055\n",
      "Epoch 3/50\n",
      "50/50 [==============================] - 0s 5ms/step - loss: 0.0049\n",
      "Epoch 4/50\n",
      "50/50 [==============================] - 0s 5ms/step - loss: 0.0045\n",
      "Epoch 5/50\n",
      "50/50 [==============================] - 0s 5ms/step - loss: 0.0044\n",
      "Epoch 6/50\n",
      "50/50 [==============================] - 0s 5ms/step - loss: 0.0049\n",
      "Epoch 7/50\n",
      "50/50 [==============================] - 0s 5ms/step - loss: 0.0038\n",
      "Epoch 8/50\n",
      "50/50 [==============================] - 0s 5ms/step - loss: 0.0042\n",
      "Epoch 9/50\n",
      "50/50 [==============================] - 0s 5ms/step - loss: 0.0041\n",
      "Epoch 10/50\n",
      "50/50 [==============================] - 0s 5ms/step - loss: 0.0036\n",
      "Epoch 11/50\n",
      "50/50 [==============================] - 0s 5ms/step - loss: 0.0038\n",
      "Epoch 12/50\n",
      "50/50 [==============================] - 0s 5ms/step - loss: 0.0037\n",
      "Epoch 13/50\n",
      "50/50 [==============================] - 0s 5ms/step - loss: 0.0034\n",
      "Epoch 14/50\n",
      "50/50 [==============================] - 0s 5ms/step - loss: 0.0033\n",
      "Epoch 15/50\n",
      "50/50 [==============================] - 0s 5ms/step - loss: 0.0035\n",
      "Epoch 16/50\n",
      "50/50 [==============================] - 0s 5ms/step - loss: 0.0034\n",
      "Epoch 17/50\n",
      "50/50 [==============================] - 0s 5ms/step - loss: 0.0030\n",
      "Epoch 18/50\n",
      "50/50 [==============================] - 0s 5ms/step - loss: 0.0028\n",
      "Epoch 19/50\n",
      "50/50 [==============================] - 0s 5ms/step - loss: 0.0029\n",
      "Epoch 20/50\n",
      "50/50 [==============================] - 0s 5ms/step - loss: 0.0027\n",
      "Epoch 21/50\n",
      "50/50 [==============================] - 0s 5ms/step - loss: 0.0031\n",
      "Epoch 22/50\n",
      "50/50 [==============================] - 0s 5ms/step - loss: 0.0031\n",
      "Epoch 23/50\n",
      "50/50 [==============================] - 0s 5ms/step - loss: 0.0032\n",
      "Epoch 24/50\n",
      "50/50 [==============================] - 0s 5ms/step - loss: 0.0028\n",
      "Epoch 25/50\n",
      "50/50 [==============================] - 0s 5ms/step - loss: 0.0028\n",
      "Epoch 26/50\n",
      "50/50 [==============================] - 0s 5ms/step - loss: 0.0024\n",
      "Epoch 27/50\n",
      "50/50 [==============================] - 0s 5ms/step - loss: 0.0028\n",
      "Epoch 28/50\n",
      "50/50 [==============================] - 0s 5ms/step - loss: 0.0026\n",
      "Epoch 29/50\n",
      "50/50 [==============================] - 0s 5ms/step - loss: 0.0025\n",
      "Epoch 30/50\n",
      "50/50 [==============================] - 0s 5ms/step - loss: 0.0024\n",
      "Epoch 31/50\n",
      "50/50 [==============================] - 0s 5ms/step - loss: 0.0030\n",
      "Epoch 32/50\n",
      "50/50 [==============================] - 0s 5ms/step - loss: 0.0024\n",
      "Epoch 33/50\n",
      "50/50 [==============================] - 0s 5ms/step - loss: 0.0026\n",
      "Epoch 34/50\n",
      "50/50 [==============================] - 0s 5ms/step - loss: 0.0024\n",
      "Epoch 35/50\n",
      "50/50 [==============================] - 0s 5ms/step - loss: 0.0023\n",
      "Epoch 36/50\n",
      "50/50 [==============================] - 0s 5ms/step - loss: 0.0022\n",
      "Epoch 37/50\n",
      "50/50 [==============================] - 0s 5ms/step - loss: 0.0021\n",
      "Epoch 38/50\n",
      "50/50 [==============================] - 0s 5ms/step - loss: 0.0023\n",
      "Epoch 39/50\n",
      "50/50 [==============================] - 0s 5ms/step - loss: 0.0021\n",
      "Epoch 40/50\n",
      "50/50 [==============================] - 0s 5ms/step - loss: 0.0020\n",
      "Epoch 41/50\n",
      "50/50 [==============================] - 0s 4ms/step - loss: 0.0019\n",
      "Epoch 42/50\n",
      "50/50 [==============================] - 0s 5ms/step - loss: 0.0020\n",
      "Epoch 43/50\n",
      "50/50 [==============================] - 0s 4ms/step - loss: 0.0023\n",
      "Epoch 44/50\n",
      "50/50 [==============================] - 0s 5ms/step - loss: 0.0021\n",
      "Epoch 45/50\n",
      "50/50 [==============================] - 0s 5ms/step - loss: 0.0021\n",
      "Epoch 46/50\n",
      "50/50 [==============================] - 0s 5ms/step - loss: 0.0023\n",
      "Epoch 47/50\n",
      "50/50 [==============================] - 0s 5ms/step - loss: 0.0017\n",
      "Epoch 48/50\n",
      "50/50 [==============================] - 0s 5ms/step - loss: 0.0020\n",
      "Epoch 49/50\n",
      "50/50 [==============================] - 0s 5ms/step - loss: 0.0018\n",
      "Epoch 50/50\n",
      "50/50 [==============================] - 0s 5ms/step - loss: 0.0022\n"
     ]
    }
   ],
   "source": [
    "# history = model.fit(X_train,y_train,validation_data=(X_test,y_test),epochs=200,batch_size=16,verbose=1)\n",
    "history = model.fit(X_train,y_train,epochs=50,batch_size=16,verbose=1)"
   ]
  },
  {
   "cell_type": "code",
   "execution_count": 18,
   "metadata": {},
   "outputs": [
    {
     "name": "stdout",
     "output_type": "stream",
     "text": [
      "25/25 [==============================] - 1s 2ms/step\n",
      "7/7 [==============================] - 0s 2ms/step\n"
     ]
    },
    {
     "data": {
      "text/plain": [
       "array([[0.78028704, 0.77994659, 0.7707824 , ..., 0.7707824 , 0.77353449,\n",
       "        0.78057078],\n",
       "       [0.77994659, 0.7707824 , 0.78425911, ..., 0.77353449, 0.78057078,\n",
       "        0.79325299],\n",
       "       [0.7707824 , 0.78425911, 0.7707824 , ..., 0.78057078, 0.79325299,\n",
       "        0.78088283],\n",
       "       ...,\n",
       "       [0.46422285, 0.4348578 , 0.37604267, ..., 0.43358111, 0.42694198,\n",
       "        0.54831753],\n",
       "       [0.4348578 , 0.37604267, 0.35697668, ..., 0.42694198, 0.54831753,\n",
       "        0.63340517],\n",
       "       [0.37604267, 0.35697668, 0.43358111, ..., 0.54831753, 0.63340517,\n",
       "        0.55495657]])"
      ]
     },
     "execution_count": 18,
     "metadata": {},
     "output_type": "execute_result"
    }
   ],
   "source": [
    "train_predict=model.predict(X_train)\n",
    "test_predict=model.predict(X_test)\n",
    "train_predict.shape, test_predict.shape\n",
    "X_test"
   ]
  },
  {
   "cell_type": "code",
   "execution_count": 19,
   "metadata": {},
   "outputs": [
    {
     "data": {
      "text/plain": [
       "array([[0.78378105],\n",
       "       [0.79625905],\n",
       "       [0.78534347],\n",
       "       [0.76795053],\n",
       "       [0.748334  ],\n",
       "       [0.75658864],\n",
       "       [0.7697185 ],\n",
       "       [0.72528213],\n",
       "       [0.74098   ],\n",
       "       [0.7191827 ],\n",
       "       [0.71965134],\n",
       "       [0.73799455],\n",
       "       [0.72854984],\n",
       "       [0.71899945],\n",
       "       [0.72207284],\n",
       "       [0.7589475 ],\n",
       "       [0.7537041 ],\n",
       "       [0.76389974],\n",
       "       [0.76148593],\n",
       "       [0.76375467],\n",
       "       [0.768523  ],\n",
       "       [0.766461  ],\n",
       "       [0.75621486],\n",
       "       [0.7558237 ],\n",
       "       [0.7307572 ],\n",
       "       [0.7416924 ],\n",
       "       [0.7441079 ],\n",
       "       [0.73750204],\n",
       "       [0.71923053],\n",
       "       [0.72102165],\n",
       "       [0.726084  ],\n",
       "       [0.7551542 ],\n",
       "       [0.7375186 ],\n",
       "       [0.7348766 ],\n",
       "       [0.75117636],\n",
       "       [0.75994   ],\n",
       "       [0.7502333 ],\n",
       "       [0.7796708 ],\n",
       "       [0.7939625 ],\n",
       "       [0.8080529 ],\n",
       "       [0.83298975],\n",
       "       [0.85086644],\n",
       "       [0.8526425 ],\n",
       "       [0.8381511 ],\n",
       "       [0.85260963],\n",
       "       [0.8561636 ],\n",
       "       [0.8768989 ],\n",
       "       [0.86217266],\n",
       "       [0.84612143],\n",
       "       [0.86076754],\n",
       "       [0.86637884],\n",
       "       [0.8750398 ],\n",
       "       [0.89516014],\n",
       "       [0.8816191 ],\n",
       "       [0.84513766],\n",
       "       [0.8502971 ],\n",
       "       [0.8494543 ],\n",
       "       [0.80118954],\n",
       "       [0.7928257 ],\n",
       "       [0.8041142 ],\n",
       "       [0.8077127 ],\n",
       "       [0.813096  ],\n",
       "       [0.81378055],\n",
       "       [0.7997047 ],\n",
       "       [0.80764455],\n",
       "       [0.8027795 ],\n",
       "       [0.7903283 ],\n",
       "       [0.8069553 ],\n",
       "       [0.82922137],\n",
       "       [0.81817186],\n",
       "       [0.8145362 ],\n",
       "       [0.80401015],\n",
       "       [0.79449266],\n",
       "       [0.78999764],\n",
       "       [0.8039047 ],\n",
       "       [0.81036425],\n",
       "       [0.81245947],\n",
       "       [0.8200867 ],\n",
       "       [0.87973064],\n",
       "       [0.8924218 ],\n",
       "       [0.9079815 ],\n",
       "       [0.90894604],\n",
       "       [0.8929931 ],\n",
       "       [0.9008004 ],\n",
       "       [0.9274462 ],\n",
       "       [0.9483716 ],\n",
       "       [0.9558398 ],\n",
       "       [0.99178326],\n",
       "       [1.0107076 ],\n",
       "       [1.0151451 ],\n",
       "       [1.0623136 ],\n",
       "       [1.0598826 ],\n",
       "       [1.0332366 ],\n",
       "       [1.0392702 ],\n",
       "       [1.0136286 ],\n",
       "       [0.9807273 ],\n",
       "       [0.99790275],\n",
       "       [1.0093224 ],\n",
       "       [1.0155061 ],\n",
       "       [0.9733271 ],\n",
       "       [0.96711606],\n",
       "       [1.0202196 ],\n",
       "       [1.0273595 ],\n",
       "       [1.0212203 ],\n",
       "       [1.0217918 ],\n",
       "       [0.99691385],\n",
       "       [1.0427418 ],\n",
       "       [1.0763345 ],\n",
       "       [1.0806954 ],\n",
       "       [1.0495615 ],\n",
       "       [1.1452467 ],\n",
       "       [1.1555936 ],\n",
       "       [1.1281846 ],\n",
       "       [1.133391  ],\n",
       "       [1.1190336 ],\n",
       "       [1.1144884 ],\n",
       "       [1.1305999 ],\n",
       "       [1.1415726 ],\n",
       "       [1.1226357 ],\n",
       "       [1.1527512 ],\n",
       "       [1.1547003 ],\n",
       "       [1.1107687 ],\n",
       "       [1.1995505 ],\n",
       "       [1.2304019 ],\n",
       "       [1.2433252 ],\n",
       "       [1.2309332 ],\n",
       "       [1.2159399 ],\n",
       "       [1.2546275 ],\n",
       "       [1.3023877 ],\n",
       "       [1.2656178 ],\n",
       "       [1.2573243 ],\n",
       "       [1.2946581 ],\n",
       "       [1.2285959 ],\n",
       "       [1.1645259 ],\n",
       "       [1.1942776 ],\n",
       "       [1.208277  ],\n",
       "       [1.1753515 ],\n",
       "       [1.2092886 ],\n",
       "       [1.2836881 ],\n",
       "       [1.2628218 ],\n",
       "       [1.2864432 ],\n",
       "       [1.2993094 ],\n",
       "       [1.2674013 ],\n",
       "       [1.2623272 ],\n",
       "       [1.2044675 ],\n",
       "       [1.1965559 ],\n",
       "       [1.2135569 ],\n",
       "       [1.2335849 ],\n",
       "       [1.223146  ],\n",
       "       [1.1541834 ],\n",
       "       [1.0881023 ],\n",
       "       [1.0947015 ],\n",
       "       [1.0539384 ],\n",
       "       [1.0858788 ],\n",
       "       [1.1226445 ],\n",
       "       [1.1243161 ],\n",
       "       [1.0696392 ],\n",
       "       [1.0758243 ],\n",
       "       [1.057984  ],\n",
       "       [1.039258  ],\n",
       "       [1.061553  ],\n",
       "       [1.0193107 ],\n",
       "       [1.0063581 ],\n",
       "       [1.0292425 ],\n",
       "       [1.0615422 ],\n",
       "       [1.0859269 ],\n",
       "       [1.0822618 ],\n",
       "       [1.078583  ],\n",
       "       [1.0728538 ],\n",
       "       [1.0739017 ],\n",
       "       [1.0793201 ],\n",
       "       [1.0502049 ],\n",
       "       [1.0363122 ],\n",
       "       [1.0200666 ],\n",
       "       [0.9515545 ],\n",
       "       [0.91258407],\n",
       "       [0.88083595],\n",
       "       [0.8776693 ],\n",
       "       [0.88017696],\n",
       "       [0.8684429 ],\n",
       "       [0.81646407],\n",
       "       [0.83148   ],\n",
       "       [0.7944115 ],\n",
       "       [0.80400753],\n",
       "       [0.7857152 ],\n",
       "       [0.49398667],\n",
       "       [0.43630823],\n",
       "       [0.3944424 ],\n",
       "       [0.37018275],\n",
       "       [0.41750368],\n",
       "       [0.4293344 ],\n",
       "       [0.5160153 ],\n",
       "       [0.61141145],\n",
       "       [0.566789  ]], dtype=float32)"
      ]
     },
     "execution_count": 19,
     "metadata": {},
     "output_type": "execute_result"
    }
   ],
   "source": [
    "test_predict"
   ]
  },
  {
   "cell_type": "code",
   "execution_count": 20,
   "metadata": {},
   "outputs": [],
   "source": [
    "train_predict = scaler.inverse_transform(train_predict)\n",
    "\n",
    "test_predict = scaler.inverse_transform(test_predict)\n",
    "\n",
    "original_ytrain = scaler.inverse_transform(y_train.reshape(-1,1)) \n",
    "\n",
    "original_ytest = scaler.inverse_transform(y_test.reshape(-1,1)) "
   ]
  },
  {
   "cell_type": "code",
   "execution_count": 21,
   "metadata": {},
   "outputs": [
    {
     "name": "stdout",
     "output_type": "stream",
     "text": [
      "Train data RMSE:  10.742140960648172\n",
      "-------------------------------------------------------------------------------------\n",
      "Test data RMSE:  13.34371334826565\n"
     ]
    }
   ],
   "source": [
    "print(\"Train data RMSE: \", math.sqrt(mean_squared_error(original_ytrain,train_predict)))\n",
    "print(\"-------------------------------------------------------------------------------------\")\n",
    "print(\"Test data RMSE: \", math.sqrt(mean_squared_error(original_ytest,test_predict)))"
   ]
  },
  {
   "cell_type": "code",
   "execution_count": 22,
   "metadata": {},
   "outputs": [
    {
     "data": {
      "image/png": "[encoded data removed]",
      "text/plain": [
       "<Figure size 640x480 with 1 Axes>"
      ]
     },
     "metadata": {},
     "output_type": "display_data"
    }
   ],
   "source": [
    "import matplotlib.pyplot as plt\n",
    "\n",
    "plt.plot(original_ytrain)\n",
    "plt.plot(train_predict)\n",
    "plt.show()"
   ]
  },
  {
   "cell_type": "code",
   "execution_count": 23,
   "metadata": {},
   "outputs": [
    {
     "data": {
      "image/png": "[encoded data removed]",
      "text/plain": [
       "<Figure size 640x480 with 1 Axes>"
      ]
     },
     "metadata": {},
     "output_type": "display_data"
    }
   ],
   "source": [
    "\n",
    "\n",
    "plt.plot(original_ytest)\n",
    "plt.plot(test_predict)\n",
    "plt.show()"
   ]
  }
 ],
 "metadata": {
  "kernelspec": {
   "display_name": "Python 3",
   "language": "python",
   "name": "python3"
  },
  "language_info": {
   "codemirror_mode": {
    "name": "ipython",
    "version": 3
   },
   "file_extension": ".py",
   "mimetype": "text/x-python",
   "name": "python",
   "nbconvert_exporter": "python",
   "pygments_lexer": "ipython3",
   "version": "3.11.2"
  }
 },
 "nbformat": 4,
 "nbformat_minor": 2
}
