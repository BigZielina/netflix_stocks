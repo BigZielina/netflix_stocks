{
 "cells": [
  {
   "cell_type": "code",
   "execution_count": 290,
   "metadata": {},
   "outputs": [],
   "source": [
    "import os\n",
    "import pandas as pd\n",
    "import numpy as np\n",
    "import math\n",
    "import datetime as dt\n",
    "\n",
    "from sklearn.metrics import mean_squared_error, mean_absolute_error, explained_variance_score, r2_score \n",
    "from sklearn.metrics import mean_poisson_deviance, mean_gamma_deviance, accuracy_score\n",
    "from sklearn.preprocessing import MinMaxScaler\n",
    "\n",
    "import tensorflow as tf\n",
    "from tensorflow.keras.models import Sequential\n",
    "from tensorflow.keras.layers import Dense, Dropout\n",
    "from tensorflow.keras.layers import LSTM, GRU\n",
    "\n",
    "from itertools import cycle\n",
    "import plotly.graph_objects as go\n",
    "import plotly.express as px\n",
    "from plotly.subplots import make_subplots\n",
    "# https://github.com/rohan-paul/MachineLearning-DeepLearning-Code-for-my-YouTube-Channel/blob/master/Finance_Stock_Crypto_Trading/Credit_Suisse_Price_Prediction_with_GRU/OUTPUT.ipynb"
   ]
  },
  {
   "cell_type": "code",
   "execution_count": 291,
   "metadata": {},
   "outputs": [
    {
     "data": {
      "text/html": [
       "<div>\n",
       "<style scoped>\n",
       "    .dataframe tbody tr th:only-of-type {\n",
       "        vertical-align: middle;\n",
       "    }\n",
       "\n",
       "    .dataframe tbody tr th {\n",
       "        vertical-align: top;\n",
       "    }\n",
       "\n",
       "    .dataframe thead th {\n",
       "        text-align: right;\n",
       "    }\n",
       "</style>\n",
       "<table border=\"1\" class=\"dataframe\">\n",
       "  <thead>\n",
       "    <tr style=\"text-align: right;\">\n",
       "      <th></th>\n",
       "      <th>date</th>\n",
       "      <th>open</th>\n",
       "      <th>high</th>\n",
       "      <th>low</th>\n",
       "      <th>close</th>\n",
       "      <th>adj_close</th>\n",
       "      <th>volume</th>\n",
       "    </tr>\n",
       "  </thead>\n",
       "  <tbody>\n",
       "    <tr>\n",
       "      <th>0</th>\n",
       "      <td>2018-02-05</td>\n",
       "      <td>262.000000</td>\n",
       "      <td>267.899994</td>\n",
       "      <td>250.029999</td>\n",
       "      <td>254.259995</td>\n",
       "      <td>254.259995</td>\n",
       "      <td>11896100</td>\n",
       "    </tr>\n",
       "    <tr>\n",
       "      <th>1</th>\n",
       "      <td>2018-02-06</td>\n",
       "      <td>247.699997</td>\n",
       "      <td>266.700012</td>\n",
       "      <td>245.000000</td>\n",
       "      <td>265.720001</td>\n",
       "      <td>265.720001</td>\n",
       "      <td>12595800</td>\n",
       "    </tr>\n",
       "    <tr>\n",
       "      <th>2</th>\n",
       "      <td>2018-02-07</td>\n",
       "      <td>266.579987</td>\n",
       "      <td>272.450012</td>\n",
       "      <td>264.329987</td>\n",
       "      <td>264.559998</td>\n",
       "      <td>264.559998</td>\n",
       "      <td>8981500</td>\n",
       "    </tr>\n",
       "    <tr>\n",
       "      <th>3</th>\n",
       "      <td>2018-02-08</td>\n",
       "      <td>267.079987</td>\n",
       "      <td>267.619995</td>\n",
       "      <td>250.000000</td>\n",
       "      <td>250.100006</td>\n",
       "      <td>250.100006</td>\n",
       "      <td>9306700</td>\n",
       "    </tr>\n",
       "    <tr>\n",
       "      <th>4</th>\n",
       "      <td>2018-02-09</td>\n",
       "      <td>253.850006</td>\n",
       "      <td>255.800003</td>\n",
       "      <td>236.110001</td>\n",
       "      <td>249.470001</td>\n",
       "      <td>249.470001</td>\n",
       "      <td>16906900</td>\n",
       "    </tr>\n",
       "  </tbody>\n",
       "</table>\n",
       "</div>"
      ],
      "text/plain": [
       "         date        open        high         low       close   adj_close  \\\n",
       "0  2018-02-05  262.000000  267.899994  250.029999  254.259995  254.259995   \n",
       "1  2018-02-06  247.699997  266.700012  245.000000  265.720001  265.720001   \n",
       "2  2018-02-07  266.579987  272.450012  264.329987  264.559998  264.559998   \n",
       "3  2018-02-08  267.079987  267.619995  250.000000  250.100006  250.100006   \n",
       "4  2018-02-09  253.850006  255.800003  236.110001  249.470001  249.470001   \n",
       "\n",
       "     volume  \n",
       "0  11896100  \n",
       "1  12595800  \n",
       "2   8981500  \n",
       "3   9306700  \n",
       "4  16906900  "
      ]
     },
     "execution_count": 291,
     "metadata": {},
     "output_type": "execute_result"
    }
   ],
   "source": [
    "df = pd.read_csv('NFLX.csv')\n",
    "df\n",
    "df = df.rename(columns={'Date': 'date','Open':'open','High':'high','Low':'low','Close':'close',\n",
    "                                'Adj Close':'adj_close','Volume':'volume'})\n",
    "df.head()"
   ]
  },
  {
   "cell_type": "code",
   "execution_count": 292,
   "metadata": {},
   "outputs": [
    {
     "name": "stdout",
     "output_type": "stream",
     "text": [
      "Total number of days:  1009\n",
      "Total number of fields:  7\n"
     ]
    }
   ],
   "source": [
    "print(\"Total number of days: \",df.shape[0])\n",
    "print(\"Total number of fields: \",df.shape[1])\n"
   ]
  },
  {
   "cell_type": "code",
   "execution_count": 293,
   "metadata": {},
   "outputs": [
    {
     "name": "stdout",
     "output_type": "stream",
     "text": [
      "Null values: 0\n",
      "NA values: False\n"
     ]
    }
   ],
   "source": [
    "print(\"Null values:\", df.isnull().values.sum())\n",
    "print(\"NA values:\", df.isna().values.any())"
   ]
  },
  {
   "cell_type": "code",
   "execution_count": 294,
   "metadata": {},
   "outputs": [
    {
     "name": "stdout",
     "output_type": "stream",
     "text": [
      "<class 'pandas.core.frame.DataFrame'>\n",
      "RangeIndex: 1009 entries, 0 to 1008\n",
      "Data columns (total 7 columns):\n",
      " #   Column     Non-Null Count  Dtype  \n",
      "---  ------     --------------  -----  \n",
      " 0   date       1009 non-null   object \n",
      " 1   open       1009 non-null   float64\n",
      " 2   high       1009 non-null   float64\n",
      " 3   low        1009 non-null   float64\n",
      " 4   close      1009 non-null   float64\n",
      " 5   adj_close  1009 non-null   float64\n",
      " 6   volume     1009 non-null   int64  \n",
      "dtypes: float64(5), int64(1), object(1)\n",
      "memory usage: 55.3+ KB\n"
     ]
    }
   ],
   "source": [
    "df.info()"
   ]
  },
  {
   "cell_type": "code",
   "execution_count": 295,
   "metadata": {},
   "outputs": [],
   "source": [
    "df['date'] = pd.to_datetime(df['date'], utc=True)\n"
   ]
  },
  {
   "cell_type": "code",
   "execution_count": 296,
   "metadata": {},
   "outputs": [
    {
     "name": "stdout",
     "output_type": "stream",
     "text": [
      "<class 'pandas.core.frame.DataFrame'>\n",
      "RangeIndex: 1009 entries, 0 to 1008\n",
      "Data columns (total 7 columns):\n",
      " #   Column     Non-Null Count  Dtype              \n",
      "---  ------     --------------  -----              \n",
      " 0   date       1009 non-null   datetime64[ns, UTC]\n",
      " 1   open       1009 non-null   float64            \n",
      " 2   high       1009 non-null   float64            \n",
      " 3   low        1009 non-null   float64            \n",
      " 4   close      1009 non-null   float64            \n",
      " 5   adj_close  1009 non-null   float64            \n",
      " 6   volume     1009 non-null   int64              \n",
      "dtypes: datetime64[ns, UTC](1), float64(5), int64(1)\n",
      "memory usage: 55.3 KB\n"
     ]
    }
   ],
   "source": [
    "df.info()"
   ]
  },
  {
   "cell_type": "code",
   "execution_count": 297,
   "metadata": {},
   "outputs": [
    {
     "name": "stdout",
     "output_type": "stream",
     "text": [
      "Starting date:  2018-02-05 00:00:00+00:00\n",
      "Ending date:  2022-02-04 00:00:00+00:00\n",
      "Duration:  1460 days 00:00:00\n"
     ]
    }
   ],
   "source": [
    "print(\"Starting date: \",df.iloc[0][0])\n",
    "print(\"Ending date: \", df.iloc[-1][0])\n",
    "print(\"Duration: \", df.iloc[-1][0]-df.iloc[0][0])"
   ]
  },
  {
   "cell_type": "code",
   "execution_count": 298,
   "metadata": {},
   "outputs": [
    {
     "name": "stdout",
     "output_type": "stream",
     "text": [
      "Shape of close dataframe: (1009, 2)\n"
     ]
    },
    {
     "data": {
      "text/html": [
       "<div>\n",
       "<style scoped>\n",
       "    .dataframe tbody tr th:only-of-type {\n",
       "        vertical-align: middle;\n",
       "    }\n",
       "\n",
       "    .dataframe tbody tr th {\n",
       "        vertical-align: top;\n",
       "    }\n",
       "\n",
       "    .dataframe thead th {\n",
       "        text-align: right;\n",
       "    }\n",
       "</style>\n",
       "<table border=\"1\" class=\"dataframe\">\n",
       "  <thead>\n",
       "    <tr style=\"text-align: right;\">\n",
       "      <th></th>\n",
       "      <th>date</th>\n",
       "      <th>close</th>\n",
       "    </tr>\n",
       "  </thead>\n",
       "  <tbody>\n",
       "    <tr>\n",
       "      <th>0</th>\n",
       "      <td>2018-02-05 00:00:00+00:00</td>\n",
       "      <td>254.259995</td>\n",
       "    </tr>\n",
       "    <tr>\n",
       "      <th>1</th>\n",
       "      <td>2018-02-06 00:00:00+00:00</td>\n",
       "      <td>265.720001</td>\n",
       "    </tr>\n",
       "    <tr>\n",
       "      <th>2</th>\n",
       "      <td>2018-02-07 00:00:00+00:00</td>\n",
       "      <td>264.559998</td>\n",
       "    </tr>\n",
       "    <tr>\n",
       "      <th>3</th>\n",
       "      <td>2018-02-08 00:00:00+00:00</td>\n",
       "      <td>250.100006</td>\n",
       "    </tr>\n",
       "    <tr>\n",
       "      <th>4</th>\n",
       "      <td>2018-02-09 00:00:00+00:00</td>\n",
       "      <td>249.470001</td>\n",
       "    </tr>\n",
       "    <tr>\n",
       "      <th>...</th>\n",
       "      <td>...</td>\n",
       "      <td>...</td>\n",
       "    </tr>\n",
       "    <tr>\n",
       "      <th>1004</th>\n",
       "      <td>2022-01-31 00:00:00+00:00</td>\n",
       "      <td>427.140015</td>\n",
       "    </tr>\n",
       "    <tr>\n",
       "      <th>1005</th>\n",
       "      <td>2022-02-01 00:00:00+00:00</td>\n",
       "      <td>457.130005</td>\n",
       "    </tr>\n",
       "    <tr>\n",
       "      <th>1006</th>\n",
       "      <td>2022-02-02 00:00:00+00:00</td>\n",
       "      <td>429.480011</td>\n",
       "    </tr>\n",
       "    <tr>\n",
       "      <th>1007</th>\n",
       "      <td>2022-02-03 00:00:00+00:00</td>\n",
       "      <td>405.600006</td>\n",
       "    </tr>\n",
       "    <tr>\n",
       "      <th>1008</th>\n",
       "      <td>2022-02-04 00:00:00+00:00</td>\n",
       "      <td>410.170013</td>\n",
       "    </tr>\n",
       "  </tbody>\n",
       "</table>\n",
       "<p>1009 rows × 2 columns</p>\n",
       "</div>"
      ],
      "text/plain": [
       "                          date       close\n",
       "0    2018-02-05 00:00:00+00:00  254.259995\n",
       "1    2018-02-06 00:00:00+00:00  265.720001\n",
       "2    2018-02-07 00:00:00+00:00  264.559998\n",
       "3    2018-02-08 00:00:00+00:00  250.100006\n",
       "4    2018-02-09 00:00:00+00:00  249.470001\n",
       "...                        ...         ...\n",
       "1004 2022-01-31 00:00:00+00:00  427.140015\n",
       "1005 2022-02-01 00:00:00+00:00  457.130005\n",
       "1006 2022-02-02 00:00:00+00:00  429.480011\n",
       "1007 2022-02-03 00:00:00+00:00  405.600006\n",
       "1008 2022-02-04 00:00:00+00:00  410.170013\n",
       "\n",
       "[1009 rows x 2 columns]"
      ]
     },
     "execution_count": 298,
     "metadata": {},
     "output_type": "execute_result"
    }
   ],
   "source": [
    "df_close = df[['date','close']]\n",
    "\n",
    "df_close_original = df_close.copy()\n",
    "\n",
    "print(\"Shape of close dataframe:\", df_close.shape)\n",
    "df_close"
   ]
  },
  {
   "cell_type": "code",
   "execution_count": 299,
   "metadata": {},
   "outputs": [
    {
     "name": "stdout",
     "output_type": "stream",
     "text": [
      "train_data:  (807, 2)\n",
      "test_data:  (202, 2)\n"
     ]
    }
   ],
   "source": [
    "training_size=int(len(df_close)*0.80)\n",
    "\n",
    "test_size=len(df_close)-training_size\n",
    "\n",
    "train_data,test_data = df_close[0:training_size],df_close[training_size:len(df_close)]\n",
    "\n",
    "print(\"train_data: \", train_data.shape)\n",
    "\n",
    "print(\"test_data: \", test_data.shape)"
   ]
  },
  {
   "cell_type": "code",
   "execution_count": 300,
   "metadata": {},
   "outputs": [],
   "source": [
    "del train_data['date']\n",
    "del test_data['date']"
   ]
  },
  {
   "cell_type": "code",
   "execution_count": 301,
   "metadata": {},
   "outputs": [
    {
     "name": "stdout",
     "output_type": "stream",
     "text": [
      "(1009, 2)\n"
     ]
    }
   ],
   "source": [
    "scaler=MinMaxScaler(feature_range=(0,1))\n",
    "\n",
    "train_data=scaler.fit_transform(np.array(train_data).reshape(-1,1))\n",
    "\n",
    "test_data = scaler.transform(np.array(test_data).reshape(-1,1))\n",
    "\n",
    "print(df_close.shape)\n",
    "train = train_data[:time_step]"
   ]
  },
  {
   "cell_type": "code",
   "execution_count": 302,
   "metadata": {},
   "outputs": [],
   "source": [
    "def create_sliding_window(dataset, time_step=1):\n",
    "    dataX, dataY = [], []\n",
    "    for i in range(len(dataset)-time_step-1):\n",
    "        a = dataset[i:(i+time_step), 0]   ###i=0, 0,1,2,3-----99   100 \n",
    "        dataX.append(a)\n",
    "        dataY.append(dataset[i + time_step, 0])\n",
    "    return np.array(dataX), np.array(dataY)"
   ]
  },
  {
   "cell_type": "code",
   "execution_count": 303,
   "metadata": {},
   "outputs": [
    {
     "name": "stdout",
     "output_type": "stream",
     "text": [
      "X_train:  (799, 7)\n",
      "y_train:  (799,)\n",
      "X_test:  (194, 7)\n",
      "y_test (194,)\n"
     ]
    }
   ],
   "source": [
    "time_step = 7\n",
    "X_train, y_train = create_sliding_window(train_data, time_step)\n",
    "X_test, y_test = create_sliding_window(test_data, time_step)\n",
    "\n",
    "print(\"X_train: \", X_train.shape)\n",
    "print(\"y_train: \", y_train.shape)\n",
    "print(\"X_test: \", X_test.shape)\n",
    "print(\"y_test\", y_test.shape)\n"
   ]
  },
  {
   "cell_type": "code",
   "execution_count": 304,
   "metadata": {},
   "outputs": [],
   "source": [
    "tf.keras.backend.clear_session()\n",
    "model=Sequential()\n",
    "model.add(GRU(32,return_sequences=True,input_shape=(time_step,1)))\n",
    "model.add(GRU(32,return_sequences=True))\n",
    "model.add(GRU(32))\n",
    "model.add(Dropout(0.20))\n",
    "model.add(Dense(1))\n",
    "model.compile(loss='mean_squared_error',optimizer='adam')"
   ]
  },
  {
   "cell_type": "code",
   "execution_count": 305,
   "metadata": {},
   "outputs": [
    {
     "name": "stdout",
     "output_type": "stream",
     "text": [
      "Model: \"sequential\"\n",
      "_________________________________________________________________\n",
      " Layer (type)                Output Shape              Param #   \n",
      "=================================================================\n",
      " gru (GRU)                   (None, 7, 32)             3360      \n",
      "                                                                 \n",
      " gru_1 (GRU)                 (None, 7, 32)             6336      \n",
      "                                                                 \n",
      " gru_2 (GRU)                 (None, 32)                6336      \n",
      "                                                                 \n",
      " dropout (Dropout)           (None, 32)                0         \n",
      "                                                                 \n",
      " dense (Dense)               (None, 1)                 33        \n",
      "                                                                 \n",
      "=================================================================\n",
      "Total params: 16,065\n",
      "Trainable params: 16,065\n",
      "Non-trainable params: 0\n",
      "_________________________________________________________________\n"
     ]
    }
   ],
   "source": [
    "model.summary()"
   ]
  },
  {
   "cell_type": "code",
   "execution_count": 306,
   "metadata": {},
   "outputs": [
    {
     "name": "stdout",
     "output_type": "stream",
     "text": [
      "Epoch 1/50\n",
      "50/50 [==============================] - 3s 5ms/step - loss: 0.0409\n",
      "Epoch 2/50\n",
      "50/50 [==============================] - 0s 5ms/step - loss: 0.0058\n",
      "Epoch 3/50\n",
      "50/50 [==============================] - 0s 5ms/step - loss: 0.0056\n",
      "Epoch 4/50\n",
      "50/50 [==============================] - 0s 5ms/step - loss: 0.0049\n",
      "Epoch 5/50\n",
      "50/50 [==============================] - 0s 5ms/step - loss: 0.0052\n",
      "Epoch 6/50\n",
      "50/50 [==============================] - 0s 5ms/step - loss: 0.0045\n",
      "Epoch 7/50\n",
      "50/50 [==============================] - 0s 5ms/step - loss: 0.0041\n",
      "Epoch 8/50\n",
      "50/50 [==============================] - 0s 5ms/step - loss: 0.0037\n",
      "Epoch 9/50\n",
      "50/50 [==============================] - 0s 5ms/step - loss: 0.0040\n",
      "Epoch 10/50\n",
      "50/50 [==============================] - 0s 5ms/step - loss: 0.0035\n",
      "Epoch 11/50\n",
      "50/50 [==============================] - 0s 5ms/step - loss: 0.0035\n",
      "Epoch 12/50\n",
      "50/50 [==============================] - 0s 5ms/step - loss: 0.0035\n",
      "Epoch 13/50\n",
      "50/50 [==============================] - 0s 5ms/step - loss: 0.0032\n",
      "Epoch 14/50\n",
      "50/50 [==============================] - 0s 5ms/step - loss: 0.0037\n",
      "Epoch 15/50\n",
      "50/50 [==============================] - 0s 5ms/step - loss: 0.0036\n",
      "Epoch 16/50\n",
      "50/50 [==============================] - 0s 5ms/step - loss: 0.0029\n",
      "Epoch 17/50\n",
      "50/50 [==============================] - 0s 5ms/step - loss: 0.0031\n",
      "Epoch 18/50\n",
      "50/50 [==============================] - 0s 5ms/step - loss: 0.0031\n",
      "Epoch 19/50\n",
      "50/50 [==============================] - 0s 5ms/step - loss: 0.0030\n",
      "Epoch 20/50\n",
      "50/50 [==============================] - 0s 5ms/step - loss: 0.0028\n",
      "Epoch 21/50\n",
      "50/50 [==============================] - 0s 5ms/step - loss: 0.0028\n",
      "Epoch 22/50\n",
      "50/50 [==============================] - 0s 4ms/step - loss: 0.0028\n",
      "Epoch 23/50\n",
      "50/50 [==============================] - 0s 5ms/step - loss: 0.0034\n",
      "Epoch 24/50\n",
      "50/50 [==============================] - 0s 5ms/step - loss: 0.0027\n",
      "Epoch 25/50\n",
      "50/50 [==============================] - 0s 5ms/step - loss: 0.0026\n",
      "Epoch 26/50\n",
      "50/50 [==============================] - 0s 5ms/step - loss: 0.0025\n",
      "Epoch 27/50\n",
      "50/50 [==============================] - 0s 5ms/step - loss: 0.0030\n",
      "Epoch 28/50\n",
      "50/50 [==============================] - 0s 5ms/step - loss: 0.0030\n",
      "Epoch 29/50\n",
      "50/50 [==============================] - 0s 5ms/step - loss: 0.0027\n",
      "Epoch 30/50\n",
      "50/50 [==============================] - 0s 5ms/step - loss: 0.0022\n",
      "Epoch 31/50\n",
      "50/50 [==============================] - 0s 5ms/step - loss: 0.0025\n",
      "Epoch 32/50\n",
      "50/50 [==============================] - 0s 5ms/step - loss: 0.0025\n",
      "Epoch 33/50\n",
      "50/50 [==============================] - 0s 5ms/step - loss: 0.0023\n",
      "Epoch 34/50\n",
      "50/50 [==============================] - 0s 5ms/step - loss: 0.0024\n",
      "Epoch 35/50\n",
      "50/50 [==============================] - 0s 5ms/step - loss: 0.0023\n",
      "Epoch 36/50\n",
      "50/50 [==============================] - 0s 5ms/step - loss: 0.0027\n",
      "Epoch 37/50\n",
      "50/50 [==============================] - 0s 5ms/step - loss: 0.0024\n",
      "Epoch 38/50\n",
      "50/50 [==============================] - 0s 5ms/step - loss: 0.0023\n",
      "Epoch 39/50\n",
      "50/50 [==============================] - 0s 5ms/step - loss: 0.0022\n",
      "Epoch 40/50\n",
      "50/50 [==============================] - 0s 5ms/step - loss: 0.0020\n",
      "Epoch 41/50\n",
      "50/50 [==============================] - 0s 5ms/step - loss: 0.0022\n",
      "Epoch 42/50\n",
      "50/50 [==============================] - 0s 5ms/step - loss: 0.0020\n",
      "Epoch 43/50\n",
      "50/50 [==============================] - 0s 5ms/step - loss: 0.0023\n",
      "Epoch 44/50\n",
      "50/50 [==============================] - 0s 5ms/step - loss: 0.0021\n",
      "Epoch 45/50\n",
      "50/50 [==============================] - 0s 5ms/step - loss: 0.0020\n",
      "Epoch 46/50\n",
      "50/50 [==============================] - 0s 5ms/step - loss: 0.0021\n",
      "Epoch 47/50\n",
      "50/50 [==============================] - 0s 5ms/step - loss: 0.0021\n",
      "Epoch 48/50\n",
      "50/50 [==============================] - 0s 5ms/step - loss: 0.0020\n",
      "Epoch 49/50\n",
      "50/50 [==============================] - 0s 5ms/step - loss: 0.0018\n",
      "Epoch 50/50\n",
      "50/50 [==============================] - 0s 5ms/step - loss: 0.0020\n"
     ]
    }
   ],
   "source": [
    "# history = model.fit(X_train,y_train,validation_data=(X_test,y_test),epochs=200,batch_size=16,verbose=1)\n",
    "history = model.fit(X_train,y_train,epochs=50,batch_size=16,verbose=1)"
   ]
  },
  {
   "cell_type": "code",
   "execution_count": 307,
   "metadata": {},
   "outputs": [
    {
     "data": {
      "text/plain": [
       "(array([], dtype=float64), array([], dtype=float64))"
      ]
     },
     "execution_count": 307,
     "metadata": {},
     "output_type": "execute_result"
    }
   ],
   "source": [
    "\n",
    "last_prices = create_sliding_window(train, time_step)\n",
    "last_prices\n"
   ]
  },
  {
   "cell_type": "code",
   "execution_count": 308,
   "metadata": {},
   "outputs": [
    {
     "name": "stdout",
     "output_type": "stream",
     "text": [
      "25/25 [==============================] - 1s 2ms/step\n",
      "7/7 [==============================] - 0s 4ms/step\n"
     ]
    },
    {
     "data": {
      "text/plain": [
       "array([[0.78028704, 0.77994659, 0.7707824 , ..., 0.7707824 , 0.77353449,\n",
       "        0.78057078],\n",
       "       [0.77994659, 0.7707824 , 0.78425911, ..., 0.77353449, 0.78057078,\n",
       "        0.79325299],\n",
       "       [0.7707824 , 0.78425911, 0.7707824 , ..., 0.78057078, 0.79325299,\n",
       "        0.78088283],\n",
       "       ...,\n",
       "       [0.46422285, 0.4348578 , 0.37604267, ..., 0.43358111, 0.42694198,\n",
       "        0.54831753],\n",
       "       [0.4348578 , 0.37604267, 0.35697668, ..., 0.42694198, 0.54831753,\n",
       "        0.63340517],\n",
       "       [0.37604267, 0.35697668, 0.43358111, ..., 0.54831753, 0.63340517,\n",
       "        0.55495657]])"
      ]
     },
     "execution_count": 308,
     "metadata": {},
     "output_type": "execute_result"
    }
   ],
   "source": [
    "train_predict=model.predict(X_train)\n",
    "test_predict=model.predict(X_test)\n",
    "train_predict.shape, test_predict.shape\n",
    "X_test"
   ]
  },
  {
   "cell_type": "code",
   "execution_count": 275,
   "metadata": {},
   "outputs": [
    {
     "data": {
      "text/plain": [
       "array([[0.7734642 ],\n",
       "       [0.7857456 ],\n",
       "       [0.77470386],\n",
       "       [0.7580391 ],\n",
       "       [0.7385589 ],\n",
       "       [0.7467203 ],\n",
       "       [0.7591032 ],\n",
       "       [0.7148979 ],\n",
       "       [0.7328317 ],\n",
       "       [0.70936334],\n",
       "       [0.711197  ],\n",
       "       [0.7291746 ],\n",
       "       [0.71940637],\n",
       "       [0.71112955],\n",
       "       [0.71421826],\n",
       "       [0.750708  ],\n",
       "       [0.74422514],\n",
       "       [0.7558416 ],\n",
       "       [0.7527628 ],\n",
       "       [0.7549889 ],\n",
       "       [0.75922763],\n",
       "       [0.7567817 ],\n",
       "       [0.7467059 ],\n",
       "       [0.7464738 ],\n",
       "       [0.72110045],\n",
       "       [0.73285556],\n",
       "       [0.734318  ],\n",
       "       [0.7282548 ],\n",
       "       [0.7106143 ],\n",
       "       [0.7129015 ],\n",
       "       [0.7174305 ],\n",
       "       [0.7464988 ],\n",
       "       [0.72825444],\n",
       "       [0.72726953],\n",
       "       [0.74297106],\n",
       "       [0.7507795 ],\n",
       "       [0.7411901 ],\n",
       "       [0.77113926],\n",
       "       [0.78403044],\n",
       "       [0.7983594 ],\n",
       "       [0.82304573],\n",
       "       [0.8400812 ],\n",
       "       [0.84146833],\n",
       "       [0.82672393],\n",
       "       [0.84100235],\n",
       "       [0.84305775],\n",
       "       [0.8639612 ],\n",
       "       [0.8486048 ],\n",
       "       [0.8335966 ],\n",
       "       [0.8479934 ],\n",
       "       [0.8524058 ],\n",
       "       [0.8615048 ],\n",
       "       [0.8816699 ],\n",
       "       [0.8676952 ],\n",
       "       [0.8320826 ],\n",
       "       [0.83749056],\n",
       "       [0.8351034 ],\n",
       "       [0.7873639 ],\n",
       "       [0.78091466],\n",
       "       [0.79133165],\n",
       "       [0.7949078 ],\n",
       "       [0.8012465 ],\n",
       "       [0.8023765 ],\n",
       "       [0.7886169 ],\n",
       "       [0.7968714 ],\n",
       "       [0.791142  ],\n",
       "       [0.77911174],\n",
       "       [0.7960361 ],\n",
       "       [0.8174745 ],\n",
       "       [0.8063545 ],\n",
       "       [0.8038205 ],\n",
       "       [0.7928163 ],\n",
       "       [0.7832303 ],\n",
       "       [0.77858186],\n",
       "       [0.79243267],\n",
       "       [0.7986274 ],\n",
       "       [0.8012333 ],\n",
       "       [0.8091173 ],\n",
       "       [0.8685695 ],\n",
       "       [0.87931705],\n",
       "       [0.896181  ],\n",
       "       [0.8962531 ],\n",
       "       [0.8796568 ],\n",
       "       [0.88706815],\n",
       "       [0.9123384 ],\n",
       "       [0.9326925 ],\n",
       "       [0.94043076],\n",
       "       [0.9767697 ],\n",
       "       [0.99432147],\n",
       "       [0.998685  ],\n",
       "       [1.0458194 ],\n",
       "       [1.0410267 ],\n",
       "       [1.0151461 ],\n",
       "       [1.0209572 ],\n",
       "       [0.99336433],\n",
       "       [0.9612974 ],\n",
       "       [0.9786949 ],\n",
       "       [0.9890971 ],\n",
       "       [0.9963938 ],\n",
       "       [0.9547255 ],\n",
       "       [0.9500457 ],\n",
       "       [1.0019081 ],\n",
       "       [1.0075334 ],\n",
       "       [1.0034425 ],\n",
       "       [1.0042051 ],\n",
       "       [0.97839665],\n",
       "       [1.0247192 ],\n",
       "       [1.0561846 ],\n",
       "       [1.061344  ],\n",
       "       [1.0306952 ],\n",
       "       [1.127416  ],\n",
       "       [1.1331431 ],\n",
       "       [1.1081802 ],\n",
       "       [1.1135575 ],\n",
       "       [1.0966659 ],\n",
       "       [1.0922897 ],\n",
       "       [1.108045  ],\n",
       "       [1.1188039 ],\n",
       "       [1.10022   ],\n",
       "       [1.1315854 ],\n",
       "       [1.1317507 ],\n",
       "       [1.0882888 ],\n",
       "       [1.1790439 ],\n",
       "       [1.2060342 ],\n",
       "       [1.2217016 ],\n",
       "       [1.208802  ],\n",
       "       [1.1929878 ],\n",
       "       [1.231208  ],\n",
       "       [1.2776945 ],\n",
       "       [1.2400104 ],\n",
       "       [1.2341317 ],\n",
       "       [1.2700605 ],\n",
       "       [1.2008729 ],\n",
       "       [1.1396538 ],\n",
       "       [1.1688988 ],\n",
       "       [1.1807833 ],\n",
       "       [1.1496656 ],\n",
       "       [1.186377  ],\n",
       "       [1.2601682 ],\n",
       "       [1.2379249 ],\n",
       "       [1.2651203 ],\n",
       "       [1.2752291 ],\n",
       "       [1.2420923 ],\n",
       "       [1.2376679 ],\n",
       "       [1.177241  ],\n",
       "       [1.1710443 ],\n",
       "       [1.1868886 ],\n",
       "       [1.2076325 ],\n",
       "       [1.1981195 ],\n",
       "       [1.1295488 ],\n",
       "       [1.0645353 ],\n",
       "       [1.0704412 ],\n",
       "       [1.0279938 ],\n",
       "       [1.0631375 ],\n",
       "       [1.0995116 ],\n",
       "       [1.1025298 ],\n",
       "       [1.0489477 ],\n",
       "       [1.0563184 ],\n",
       "       [1.0357208 ],\n",
       "       [1.017833  ],\n",
       "       [1.040632  ],\n",
       "       [0.99747455],\n",
       "       [0.9871923 ],\n",
       "       [1.009305  ],\n",
       "       [1.0411891 ],\n",
       "       [1.0662268 ],\n",
       "       [1.0629793 ],\n",
       "       [1.0597413 ],\n",
       "       [1.0530266 ],\n",
       "       [1.0534402 ],\n",
       "       [1.0583875 ],\n",
       "       [1.0289665 ],\n",
       "       [1.016182  ],\n",
       "       [0.9993266 ],\n",
       "       [0.9310585 ],\n",
       "       [0.8941215 ],\n",
       "       [0.8619536 ],\n",
       "       [0.8595816 ],\n",
       "       [0.86275065],\n",
       "       [0.85245407],\n",
       "       [0.80222404],\n",
       "       [0.818908  ],\n",
       "       [0.7801912 ],\n",
       "       [0.7919053 ],\n",
       "       [0.7728845 ],\n",
       "       [0.48458663],\n",
       "       [0.435314  ],\n",
       "       [0.3887949 ],\n",
       "       [0.3650759 ],\n",
       "       [0.41522378],\n",
       "       [0.4282266 ],\n",
       "       [0.5198731 ],\n",
       "       [0.61390173],\n",
       "       [0.56576455]], dtype=float32)"
      ]
     },
     "execution_count": 275,
     "metadata": {},
     "output_type": "execute_result"
    }
   ],
   "source": [
    "test_predict"
   ]
  },
  {
   "cell_type": "code",
   "execution_count": 276,
   "metadata": {},
   "outputs": [],
   "source": [
    "train_predict = scaler.inverse_transform(train_predict)\n",
    "\n",
    "test_predict = scaler.inverse_transform(test_predict)\n",
    "\n",
    "original_ytrain = scaler.inverse_transform(y_train.reshape(-1,1)) \n",
    "\n",
    "original_ytest = scaler.inverse_transform(y_test.reshape(-1,1)) "
   ]
  },
  {
   "cell_type": "code",
   "execution_count": 277,
   "metadata": {},
   "outputs": [
    {
     "name": "stdout",
     "output_type": "stream",
     "text": [
      "Train data RMSE:  10.724926818462114\n",
      "-------------------------------------------------------------------------------------\n",
      "Test data RMSE:  13.656421822851948\n"
     ]
    }
   ],
   "source": [
    "print(\"Train data RMSE: \", math.sqrt(mean_squared_error(original_ytrain,train_predict)))\n",
    "print(\"-------------------------------------------------------------------------------------\")\n",
    "print(\"Test data RMSE: \", math.sqrt(mean_squared_error(original_ytest,test_predict)))"
   ]
  },
  {
   "cell_type": "code",
   "execution_count": 278,
   "metadata": {},
   "outputs": [
    {
     "data": {
      "image/png": "[encoded data removed]",
      "text/plain": [
       "<Figure size 640x480 with 1 Axes>"
      ]
     },
     "metadata": {},
     "output_type": "display_data"
    }
   ],
   "source": [
    "import matplotlib.pyplot as plt\n",
    "\n",
    "plt.plot(original_ytrain)\n",
    "plt.plot(train_predict)\n",
    "plt.show()"
   ]
  },
  {
   "cell_type": "code",
   "execution_count": 279,
   "metadata": {},
   "outputs": [
    {
     "data": {
      "image/png": "[encoded data removed]",
      "text/plain": [
       "<Figure size 640x480 with 1 Axes>"
      ]
     },
     "metadata": {},
     "output_type": "display_data"
    }
   ],
   "source": [
    "\n",
    "\n",
    "plt.plot(original_ytest)\n",
    "plt.plot(test_predict)\n",
    "plt.show()"
   ]
  },
  {
   "cell_type": "code",
   "execution_count": null,
   "metadata": {},
   "outputs": [],
   "source": [
    "look_back=time_step\n",
    "\n",
    "train_predict_look_ahead = np.empty_like(stock_df_close_last_1_year)\n",
    "\n",
    "train_predict_look_ahead[:, :] = np.nan\n",
    "\n",
    "# For looking ahead by look_back, I need to start at look_back\n",
    "train_predict_look_ahead[look_back:len(train_predict)+look_back, :] = train_predict\n",
    "\n",
    "print(\"Train predicted data: \", train_predict_look_ahead.shape)\n",
    "\n",
    "####################### TEST #############################\n",
    "# shift test predictions for plotting\n",
    "test_predict_look_ahead = np.empty_like(stock_df_close_last_1_year)\n",
    "\n",
    "test_predict_look_ahead[:, :] = np.nan\n",
    "\n",
    "test_predict_look_ahead[len(train_predict)+(look_back*2)+1:len(stock_df_close_last_1_year)-1, :] = test_predict\n",
    "\n",
    "print(\"Test predicted data: \", test_predict_look_ahead.shape)\n",
    "\n",
    "names = cycle(['Original close price','Train predicted close price','Test predicted close price'])\n",
    "\n",
    "\n",
    "plotdf = pd.DataFrame({'date': df_close_original['date'],\n",
    "                       'original_close': df_close_original['close'],\n",
    "                      'train_predicted_close': train_predict_look_ahead.reshape(1,-1)[0].tolist(),\n",
    "                      'test_predicted_close': test_predict_look_ahead.reshape(1,-1)[0].tolist()})\n",
    "\n",
    "fig = px.line(plotdf,x=plotdf['date'], y=[plotdf['original_close'],plotdf['train_predicted_close'],\n",
    "                                          plotdf['test_predicted_close']],\n",
    "              labels={'value':'Stock price','date': 'Date'})\n",
    "fig.update_layout(title_text='Comparision between original close price vs predicted close price',\n",
    "                  plot_bgcolor='white', font_size=15, font_color='black', legend_title_text='Close Price')\n",
    "fig.for_each_trace(lambda t:  t.update(name = next(names)))\n",
    "\n",
    "fig.update_xaxes(showgrid=False)\n",
    "fig.update_yaxes(showgrid=False)\n",
    "fig.show()"
   ]
  }
 ],
 "metadata": {
  "kernelspec": {
   "display_name": "Python 3",
   "language": "python",
   "name": "python3"
  },
  "language_info": {
   "codemirror_mode": {
    "name": "ipython",
    "version": 3
   },
   "file_extension": ".py",
   "mimetype": "text/x-python",
   "name": "python",
   "nbconvert_exporter": "python",
   "pygments_lexer": "ipython3",
   "version": "3.11.2"
  }
 },
 "nbformat": 4,
 "nbformat_minor": 2
}
